{
 "cells": [
  {
   "cell_type": "code",
   "execution_count": null,
   "metadata": {},
   "outputs": [],
   "source": [
    "## BFS\n",
    "from collections import deque\n",
    "\n",
    "def bfs(grid):\n",
    "    startNode = (0,0)\n",
    "    q = deque()\n",
    "    visited = set()\n",
    "    q.append(startNode)\n",
    "    while q:\n",
    "        curr = q.popleft()\n",
    "        for neighbor in getNeighbours(curr):\n",
    "            if not visited[neighbor]:\n",
    "                visited[neighbor] = True\n",
    "                q.append(neighbor)\n"
   ]
  },
  {
   "cell_type": "code",
   "execution_count": 1,
   "metadata": {},
   "outputs": [
    {
     "ename": "SyntaxError",
     "evalue": "incomplete input (519663533.py, line 4)",
     "output_type": "error",
     "traceback": [
      "\u001b[0;36m  Cell \u001b[0;32mIn[1], line 4\u001b[0;36m\u001b[0m\n\u001b[0;31m    if not node:\u001b[0m\n\u001b[0m                ^\u001b[0m\n\u001b[0;31mSyntaxError\u001b[0m\u001b[0;31m:\u001b[0m incomplete input\n"
     ]
    }
   ],
   "source": [
    "## DFS\n",
    "\n",
    "def dfs(node):\n",
    "    if not node:\n",
    "        return\n",
    "    dfs(node.left)\n",
    "    dfs(node.right)"
   ]
  },
  {
   "cell_type": "code",
   "execution_count": null,
   "metadata": {},
   "outputs": [],
   "source": [
    "class QuickUnion():\n",
    "    def __init__(self,N):\n",
    "        self._parents = list(range(0,N))\n",
    "\n",
    "    def find(self, p):\n",
    "        while(p != self._parents[p]):\n",
    "            p = self._parents[p]\n",
    "        return p\n",
    "\n",
    "    def union(self, p, q):\n",
    "        root_p, root_q = self.find(p), self.find(q)\n",
    "        self._parents[i] = root_q def connected(self, p, q):\n",
    "        return self.find(p)==self.find(q)\n",
    "\n",
    "class DisJointSets():\n",
    "    def __init__(self,N):\n",
    "        # Initially, all elements are single element subsets\n",
    "        self._parents = [node for node in range(N)]\n",
    "        self._ranks = [1 for _ in range(N)]\n",
    "\n",
    "    def find(self, u):\n",
    "        while u != self._parents[u]:\n",
    "            # path compression technique\n",
    "            self._parents[u] = self._parents[self._parents[u]]\n",
    "            u = self._parents[u]\n",
    "        return u\n",
    "\n",
    "    def connected(self, u, v):\n",
    "        return self.find(u) == self.find(v)\n",
    "\n",
    "    def union(self, u, v):\n",
    "        # Union by rank optimization\n",
    "        root_u, root_v = self.find(u), self.find(v)\n",
    "        if root_u == root_v:\n",
    "            return True\n",
    "        if self._ranks[root_u] > self._ranks[root_v]:\n",
    "            self._parents[root_v] = root_u\n",
    "        elif self._ranks[root_v] > self._ranks[root_u]:\n",
    "            self._parents[root_u] = root_v\n",
    "        else:\n",
    "            self._parents[root_u] = root_v\n",
    "            self._ranks[root_v] += 1\n",
    "        return False"
   ]
  },
  {
   "cell_type": "code",
   "execution_count": null,
   "metadata": {},
   "outputs": [],
   "source": [
    "## MST O(E log V)\n",
    "# T = ∅;\n",
    "# U = { 1 };\n",
    "# while (U ≠ V)\n",
    "#     let (u, v) be the lowest cost edge such that u ∈ U and v ∈ V - U;\n",
    "#     T = T ∪ {(u, v)}\n",
    "#     U = U ∪ {v}"
   ]
  },
  {
   "cell_type": "code",
   "execution_count": 3,
   "metadata": {},
   "outputs": [
    {
     "ename": "SyntaxError",
     "evalue": "incomplete input (1150709387.py, line 11)",
     "output_type": "error",
     "traceback": [
      "\u001b[0;36m  Cell \u001b[0;32mIn[3], line 11\u001b[0;36m\u001b[0m\n\u001b[0;31m    while minHeap:\u001b[0m\n\u001b[0m                  ^\u001b[0m\n\u001b[0;31mSyntaxError\u001b[0m\u001b[0;31m:\u001b[0m incomplete input\n"
     ]
    }
   ],
   "source": [
    "## Djikstras # O (E log V)\n",
    "edges = collections.defaultdict(list)\n",
    "for u,v,w in times:\n",
    "    edges[u].append((v,w))\n",
    "\n",
    "# creates an adjacency list\n",
    "minHeap = [(0,start)]\n",
    "visited = set()\n",
    "shortest = {}\n",
    "while minHeap:\n",
    "    w1,n1 = heapq.heappop(minHeap)\n",
    "    if n1 in shortest:\n",
    "        continue\n",
    "    shortest[n1] = w1\n",
    "\n",
    "    for n2,w2 in edges[n1]:\n",
    "        if n2 not in shortest:\n",
    "            heapq.heappush(minHeap, (w2+w1,n2))\n",
    "            \n",
    "for i in range(n):\n",
    "    if i not in shortest:\n",
    "        shortest[i] = -1\n",
    "return shortest\n",
    "\n",
    "# General idea is to start at any node, recursively calculate length of path to the next node, take the minimum path node each time, if we pop an node and its already visited, just skip"
   ]
  },
  {
   "cell_type": "code",
   "execution_count": null,
   "metadata": {},
   "outputs": [],
   "source": [
    "# Bellman Ford"
   ]
  },
  {
   "cell_type": "code",
   "execution_count": null,
   "metadata": {},
   "outputs": [],
   "source": [
    "# Floyd Warshall"
   ]
  },
  {
   "cell_type": "code",
   "execution_count": 2,
   "metadata": {},
   "outputs": [
    {
     "ename": "SyntaxError",
     "evalue": "incomplete input (1408794962.py, line 2)",
     "output_type": "error",
     "traceback": [
      "\u001b[0;36m  Cell \u001b[0;32mIn[2], line 2\u001b[0;36m\u001b[0m\n\u001b[0;31m    def bs():\u001b[0m\n\u001b[0m             ^\u001b[0m\n\u001b[0;31mSyntaxError\u001b[0m\u001b[0;31m:\u001b[0m incomplete input\n"
     ]
    }
   ],
   "source": [
    "# Binary Search\n",
    "def bs(list,target):\n",
    "    left = 0\n",
    "    right = len(list)\n",
    "    while left <= right:\n",
    "        middle = (left + right)//2\n",
    "        if list[middle] == target:\n",
    "            return middle\n",
    "        elif list[middle] < target:\n",
    "            left = middle + 1\n",
    "        else:\n",
    "            right = middle + 1\n",
    "            \n",
    "    return -1"
   ]
  },
  {
   "cell_type": "code",
   "execution_count": null,
   "metadata": {},
   "outputs": [],
   "source": [
    "# Two pointers\n",
    "l = 0\n",
    "r = len(nums) - 1\n",
    "while l <= r:\n",
    "    "
   ]
  },
  {
   "cell_type": "code",
   "execution_count": 1,
   "metadata": {},
   "outputs": [],
   "source": [
    "# Sliding window\n",
    "l = 0\n",
    "r = 0\n",
    "while r < len(nums)\n"
   ]
  },
  {
   "cell_type": "code",
   "execution_count": null,
   "metadata": {},
   "outputs": [],
   "source": []
  },
  {
   "cell_type": "code",
   "execution_count": null,
   "metadata": {},
   "outputs": [],
   "source": [
    "# Queues\n",
    "# firt in first out\n",
    "from collections import deque\n",
    "q = deque()\n",
    "q.append(\"something\")\n",
    "q.popleft()\n"
   ]
  },
  {
   "cell_type": "code",
   "execution_count": null,
   "metadata": {},
   "outputs": [],
   "source": [
    "# Stacks\n",
    "# last in first out\n",
    "stack = []\n",
    "stack.append(\"one\")\n",
    "stack.pop()"
   ]
  },
  {
   "cell_type": "code",
   "execution_count": null,
   "metadata": {},
   "outputs": [],
   "source": [
    "# Heaps\n",
    "import heapq\n",
    "nums = [i for i in range(10)]\n",
    "heapq.heapify(nums)\n",
    "heapq.heappop(nums)\n",
    "heapq.heappush(nums,3)"
   ]
  },
  {
   "cell_type": "code",
   "execution_count": null,
   "metadata": {},
   "outputs": [],
   "source": [
    "# Linked List"
   ]
  },
  {
   "cell_type": "code",
   "execution_count": null,
   "metadata": {},
   "outputs": [],
   "source": [
    "# DP"
   ]
  },
  {
   "cell_type": "code",
   "execution_count": 1,
   "metadata": {},
   "outputs": [
    {
     "name": "stdout",
     "output_type": "stream",
     "text": [
      "[Order of 10 stocks of limit 150 of type buy]\n",
      "[]\n",
      "\n",
      "[Order of 5 stocks of limit 150 of type buy]\n",
      "[]\n",
      "\n",
      "[Order of 5 stocks of limit 150 of type buy, Order of 10 stocks of limit 100 of type buy]\n",
      "[]\n",
      "\n",
      "selling starts here\n",
      "[Order of 5 stocks of limit 150 of type buy, Order of 10 stocks of limit 100 of type buy]\n",
      "[Order of 5 stocks of limit 200 of type sell]\n",
      "\n",
      "[]\n",
      "[Order of 1 stocks of limit 50 of type sell, Order of 5 stocks of limit 200 of type sell]\n",
      "\n"
     ]
    }
   ],
   "source": [
    "# implement limit order book\n",
    "# buy only when price goes below limit, or sell at least when limit\n",
    "# keep track of outstanding orders\n",
    "# implement class with \n",
    "# 1. care abt 1 stock, takes in order (amount of stock, buy/sell, limit price)\n",
    "# order matching: anything that hasn't been executed is stored\n",
    "# when someone tries to implement a buy, look for sell willing to match that prices\n",
    "# returns whats in the order book at that time\n",
    "\n",
    "# best offer in the book,\n",
    "import heapq\n",
    "class order():\n",
    "    def __init__(self,amount, t, limit):\n",
    "        # amount is integer\n",
    "        self.amount = amount\n",
    "        # t is 0 for buy, 1 for sell\n",
    "        self.t = t\n",
    "        # limit is a float\n",
    "        self.limit = limit\n",
    "    def __lt__(self, other):\n",
    "        return self.amount < other.amount\n",
    "    def __gt__(self, other):\n",
    "        return self.amount > other.amount\n",
    "    def __repr__(self):\n",
    "        return f\"Order of {self.amount} stocks of limit {self.limit * -1 if not self.t else self.limit} of type {'sell' if self.t else 'buy'}\"\n",
    "            \n",
    "\n",
    "class limitOrderBook():\n",
    "    def __init__(self,):\n",
    "        # sorted by max\n",
    "        self.buys = []\n",
    "        \n",
    "        # sorted by min\n",
    "        self.sells = []\n",
    "    # \n",
    "    def placeOrder(self, order):\n",
    "        # search for a valid buy/sell based on the given order\n",
    "        # print(order)\n",
    "        if order.t:\n",
    "            # check the buys for valid order\n",
    "            if self.buys:\n",
    "                top_order = heapq.heappop(self.buys)\n",
    "                \n",
    "                while top_order and (-1*top_order.limit) > order.limit:\n",
    "                    # print(f\"printing top buy order available: {top_order}\")\n",
    "                    if order.amount < top_order.amount:\n",
    "                        top_order.amount -= order.amount\n",
    "                        # heapq.heappush(self.buys, top_order)\n",
    "                        order.amount = 0\n",
    "                        break\n",
    "                    else:\n",
    "                        order.amount -= top_order.amount\n",
    "                        if self.buys:\n",
    "                            top_order = heapq.heappop(self.buys)\n",
    "                        else:\n",
    "                            top_order.amount = 0\n",
    "                            break\n",
    "                if (top_order.amount):\n",
    "                    heapq.heappush(self.buys,top_order)\n",
    "            # print(order.amount)\n",
    "            if order.amount:\n",
    "                heapq.heappush(self.sells,order)\n",
    "        else:\n",
    "             # check the sells for valid order\n",
    "            if self.sells:\n",
    "                top_order = heapq.heappop(self.sells)\n",
    "                while top_order and top_order.limit < order.limit:\n",
    "                    if order.amount < top_order.amount:\n",
    "                        top_order.amount -= order.amount\n",
    "                        # heapq.heappush(top_order)\n",
    "                        order.amount = 0\n",
    "                        break\n",
    "                    else:\n",
    "                        order.amount -= top_order.amount\n",
    "                        if self.sells:\n",
    "                            top_order = heapq.heappop(self.sells)\n",
    "                        else:\n",
    "                            top_order.amount = 0\n",
    "                            break\n",
    "                heapq.heappush(self.sells,top_order)\n",
    "            if order.amount:\n",
    "                order.limit *= -1\n",
    "                heapq.heappush(self.buys,order)\n",
    "        # if there's no valid ones, you can insert into the given buy/sell heap\n",
    "        print(list(self.buys))\n",
    "        print(list(self.sells))\n",
    "        print('')\n",
    "\n",
    "        \n",
    "# # order 1: 10, buy, 150\n",
    "lob = limitOrderBook()\n",
    "o1 = order(10,0,150)\n",
    "lob.placeOrder(o1)\n",
    "# (order1)\n",
    "\n",
    "\n",
    "# # order 2: 5, sell, 140\n",
    "\n",
    "o2 = order(5,1,140)\n",
    "lob.placeOrder(o2)\n",
    "\n",
    "# (order1: 5, buy, 150)\n",
    "\n",
    "\n",
    "# # order 3: 10, buy, 100\n",
    "o3 = order(10,0,100)\n",
    "lob.placeOrder(o3)\n",
    "\n",
    "\n",
    "# (order1, order3)\n",
    "\n",
    "# # order 4: 5, sell, 110\n",
    "print(\"selling starts here\")\n",
    "o4 = order(5,1,200)\n",
    "lob.placeOrder(o4)\n",
    "\n",
    "# (order3)\n",
    "o5 = order(16,1,50)\n",
    "lob.placeOrder(o5)\n",
    "\n",
    "\n",
    "# practice classes\n",
    "# always do examples first to clarify\n",
    "# tested on my own, never say you're done without testing\n",
    "\n",
    "# better to use order class than args\n",
    "# speed was slow --> half an hour to solve this on avg, then some time for followup\n",
    "# "
   ]
  },
  {
   "cell_type": "code",
   "execution_count": null,
   "metadata": {},
   "outputs": [],
   "source": []
  }
 ],
 "metadata": {
  "kernelspec": {
   "display_name": "econ424",
   "language": "python",
   "name": "python3"
  },
  "language_info": {
   "codemirror_mode": {
    "name": "ipython",
    "version": 3
   },
   "file_extension": ".py",
   "mimetype": "text/x-python",
   "name": "python",
   "nbconvert_exporter": "python",
   "pygments_lexer": "ipython3",
   "version": "3.11.9"
  }
 },
 "nbformat": 4,
 "nbformat_minor": 2
}
